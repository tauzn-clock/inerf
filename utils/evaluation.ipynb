{
 "cells": [
  {
   "cell_type": "code",
   "execution_count": 1,
   "metadata": {},
   "outputs": [],
   "source": [
    "%load_ext autoreload\n",
    "%autoreload 2\n",
    "%matplotlib inline"
   ]
  },
  {
   "cell_type": "code",
   "execution_count": 2,
   "metadata": {},
   "outputs": [
    {
     "name": "stdout",
     "output_type": "stream",
     "text": [
      "Jupyter environment detected. Enabling Open3D WebVisualizer.\n",
      "[Open3D INFO] WebRTC GUI backend enabled.\n",
      "[Open3D INFO] WebRTCWindowSystem: HTTP handshake server disabled.\n"
     ]
    }
   ],
   "source": [
    "import sys\n",
    "import os\n",
    "import json\n",
    "import torch\n",
    "import yaml\n",
    "import numpy as np\n",
    "import cv2\n",
    "import copy\n",
    "from pathlib import Path\n",
    "import matplotlib.pyplot as plt\n",
    "from PIL import Image\n",
    "from nerfstudio.utils.eval_utils import eval_setup\n",
    "from inerf.inerf_utils import eval_image"
   ]
  },
  {
   "cell_type": "code",
   "execution_count": 3,
   "metadata": {},
   "outputs": [],
   "source": [
    "os.chdir('/workspace')\n",
    "MODEL_PATH = \"/workspace/outputs/jackal_training_data_5/plane-nerf/2024-01-14_133459\"\n",
    "EVAL_PATH = \"/stored_data/jackal_evaluation_data\"\n",
    "\n",
    "TRANSFORM_PATH = os.path.join(EVAL_PATH, \"transforms.json\")\n",
    "with open(TRANSFORM_PATH) as f:\n",
    "    transform = json.load(f)\n"
   ]
  },
  {
   "cell_type": "code",
   "execution_count": 4,
   "metadata": {},
   "outputs": [
    {
     "data": {
      "text/html": [
       "<pre style=\"white-space:pre;overflow-x:auto;line-height:normal;font-family:Menlo,'DejaVu Sans Mono',consolas,'Courier New',monospace\">\n",
       "</pre>\n"
      ],
      "text/plain": [
       "\n"
      ]
     },
     "metadata": {},
     "output_type": "display_data"
    },
    {
     "data": {
      "text/html": [
       "<pre style=\"white-space:pre;overflow-x:auto;line-height:normal;font-family:Menlo,'DejaVu Sans Mono',consolas,'Courier New',monospace\"><span style=\"color: #808000; text-decoration-color: #808000; font-weight: bold\">WARNING: Using slower TCNN CutlassMLP instead of TCNN FullyFusedMLP</span>\n",
       "</pre>\n"
      ],
      "text/plain": [
       "\u001b[1;33mWARNING: Using slower TCNN CutlassMLP instead of TCNN FullyFusedMLP\u001b[0m\n"
      ]
     },
     "metadata": {},
     "output_type": "display_data"
    },
    {
     "data": {
      "text/html": [
       "<pre style=\"white-space:pre;overflow-x:auto;line-height:normal;font-family:Menlo,'DejaVu Sans Mono',consolas,'Courier New',monospace\"><span style=\"color: #808000; text-decoration-color: #808000; font-weight: bold\">Use layer width of </span><span style=\"color: #808000; text-decoration-color: #808000; font-weight: bold\">16</span><span style=\"color: #808000; text-decoration-color: #808000; font-weight: bold\">, </span><span style=\"color: #808000; text-decoration-color: #808000; font-weight: bold\">32</span><span style=\"color: #808000; text-decoration-color: #808000; font-weight: bold\">, </span><span style=\"color: #808000; text-decoration-color: #808000; font-weight: bold\">64</span><span style=\"color: #808000; text-decoration-color: #808000; font-weight: bold\">, or </span><span style=\"color: #808000; text-decoration-color: #808000; font-weight: bold\">128</span><span style=\"color: #808000; text-decoration-color: #808000; font-weight: bold\"> to use the faster TCNN FullyFusedMLP.</span>\n",
       "</pre>\n"
      ],
      "text/plain": [
       "\u001b[1;33mUse layer width of \u001b[0m\u001b[1;33m16\u001b[0m\u001b[1;33m, \u001b[0m\u001b[1;33m32\u001b[0m\u001b[1;33m, \u001b[0m\u001b[1;33m64\u001b[0m\u001b[1;33m, or \u001b[0m\u001b[1;33m128\u001b[0m\u001b[1;33m to use the faster TCNN FullyFusedMLP.\u001b[0m\n"
      ]
     },
     "metadata": {},
     "output_type": "display_data"
    },
    {
     "data": {
      "text/html": [
       "<pre style=\"white-space:pre;overflow-x:auto;line-height:normal;font-family:Menlo,'DejaVu Sans Mono',consolas,'Courier New',monospace\">\n",
       "</pre>\n"
      ],
      "text/plain": [
       "\n"
      ]
     },
     "metadata": {},
     "output_type": "display_data"
    },
    {
     "data": {
      "text/html": [
       "<pre style=\"white-space:pre;overflow-x:auto;line-height:normal;font-family:Menlo,'DejaVu Sans Mono',consolas,'Courier New',monospace\">\n",
       "</pre>\n"
      ],
      "text/plain": [
       "\n"
      ]
     },
     "metadata": {},
     "output_type": "display_data"
    },
    {
     "data": {
      "text/html": [
       "<pre style=\"white-space:pre;overflow-x:auto;line-height:normal;font-family:Menlo,'DejaVu Sans Mono',consolas,'Courier New',monospace\"><span style=\"color: #808000; text-decoration-color: #808000; font-weight: bold\">WARNING: Using slower TCNN CutlassMLP instead of TCNN FullyFusedMLP</span>\n",
       "</pre>\n"
      ],
      "text/plain": [
       "\u001b[1;33mWARNING: Using slower TCNN CutlassMLP instead of TCNN FullyFusedMLP\u001b[0m\n"
      ]
     },
     "metadata": {},
     "output_type": "display_data"
    },
    {
     "data": {
      "text/html": [
       "<pre style=\"white-space:pre;overflow-x:auto;line-height:normal;font-family:Menlo,'DejaVu Sans Mono',consolas,'Courier New',monospace\"><span style=\"color: #808000; text-decoration-color: #808000; font-weight: bold\">Use layer width of </span><span style=\"color: #808000; text-decoration-color: #808000; font-weight: bold\">16</span><span style=\"color: #808000; text-decoration-color: #808000; font-weight: bold\">, </span><span style=\"color: #808000; text-decoration-color: #808000; font-weight: bold\">32</span><span style=\"color: #808000; text-decoration-color: #808000; font-weight: bold\">, </span><span style=\"color: #808000; text-decoration-color: #808000; font-weight: bold\">64</span><span style=\"color: #808000; text-decoration-color: #808000; font-weight: bold\">, or </span><span style=\"color: #808000; text-decoration-color: #808000; font-weight: bold\">128</span><span style=\"color: #808000; text-decoration-color: #808000; font-weight: bold\"> to use the faster TCNN FullyFusedMLP.</span>\n",
       "</pre>\n"
      ],
      "text/plain": [
       "\u001b[1;33mUse layer width of \u001b[0m\u001b[1;33m16\u001b[0m\u001b[1;33m, \u001b[0m\u001b[1;33m32\u001b[0m\u001b[1;33m, \u001b[0m\u001b[1;33m64\u001b[0m\u001b[1;33m, or \u001b[0m\u001b[1;33m128\u001b[0m\u001b[1;33m to use the faster TCNN FullyFusedMLP.\u001b[0m\n"
      ]
     },
     "metadata": {},
     "output_type": "display_data"
    },
    {
     "data": {
      "text/html": [
       "<pre style=\"white-space:pre;overflow-x:auto;line-height:normal;font-family:Menlo,'DejaVu Sans Mono',consolas,'Courier New',monospace\">\n",
       "</pre>\n"
      ],
      "text/plain": [
       "\n"
      ]
     },
     "metadata": {},
     "output_type": "display_data"
    },
    {
     "name": "stdout",
     "output_type": "stream",
     "text": [
      "Warning: FullyFusedMLP is not supported for the selected architecture 37. Falling back to CutlassMLP. For maximum performance, raise the target GPU architecture to 75+.\n",
      "Warning: FullyFusedMLP is not supported for the selected architecture 37. Falling back to CutlassMLP. For maximum performance, raise the target GPU architecture to 75+.\n",
      "Warning: FullyFusedMLP is not supported for the selected architecture 37. Falling back to CutlassMLP. For maximum performance, raise the target GPU architecture to 75+.\n",
      "Warning: FullyFusedMLP is not supported for the selected architecture 37. Falling back to CutlassMLP. For maximum performance, raise the target GPU architecture to 75+.\n"
     ]
    },
    {
     "data": {
      "text/html": [
       "<pre style=\"white-space:pre;overflow-x:auto;line-height:normal;font-family:Menlo,'DejaVu Sans Mono',consolas,'Courier New',monospace\">Loading latest checkpoint from load_dir\n",
       "</pre>\n"
      ],
      "text/plain": [
       "Loading latest checkpoint from load_dir\n"
      ]
     },
     "metadata": {},
     "output_type": "display_data"
    },
    {
     "data": {
      "text/html": [
       "<pre style=\"white-space:pre;overflow-x:auto;line-height:normal;font-family:Menlo,'DejaVu Sans Mono',consolas,'Courier New',monospace\">✅ Done loading checkpoint from \n",
       "outputs/jackal_training_data_5/plane-nerf/<span style=\"color: #008080; text-decoration-color: #008080; font-weight: bold\">2024</span>-<span style=\"color: #008080; text-decoration-color: #008080; font-weight: bold\">01</span>-14_133459/nerfstudio_models/step-<span style=\"color: #008080; text-decoration-color: #008080; font-weight: bold\">000009999.</span>ckpt\n",
       "</pre>\n"
      ],
      "text/plain": [
       "✅ Done loading checkpoint from \n",
       "outputs/jackal_training_data_5/plane-nerf/\u001b[1;36m2024\u001b[0m-\u001b[1;36m01\u001b[0m-14_133459/nerfstudio_models/step-\u001b[1;36m000009999.\u001b[0mckpt\n"
      ]
     },
     "metadata": {},
     "output_type": "display_data"
    }
   ],
   "source": [
    "config_path = os.path.join(MODEL_PATH, \"config.yml\")\n",
    "config, pipeline, checkpoint_path, _ = eval_setup(\n",
    "                        Path(config_path),\n",
    "                        test_mode=\"inference\",\n",
    "                    )"
   ]
  },
  {
   "cell_type": "code",
   "execution_count": 8,
   "metadata": {},
   "outputs": [
    {
     "name": "stdout",
     "output_type": "stream",
     "text": [
      "['images/0.png', 'images/1.png', 'images/2.png', 'images/3.png', 'images/4.png', 'images/5.png', 'images/6.png', 'images/7.png', 'images/8.png', 'images/9.png', 'images/10.png', 'images/11.png', 'images/12.png', 'images/13.png', 'images/14.png', 'images/15.png', 'images/16.png', 'images/17.png', 'images/18.png', 'images/19.png', 'images/20.png', 'images/21.png', 'images/22.png', 'images/23.png', 'images/24.png', 'images/25.png', 'images/26.png', 'images/27.png', 'images/28.png', 'images/29.png', 'images/30.png', 'images/31.png', 'images/32.png', 'images/33.png', 'images/34.png', 'images/35.png', 'images/36.png', 'images/37.png', 'images/38.png', 'images/39.png', 'images/40.png', 'images/41.png', 'images/42.png', 'images/43.png', 'images/44.png', 'images/45.png', 'images/46.png', 'images/47.png', 'images/48.png', 'images/49.png', 'images/50.png', 'images/51.png', 'images/52.png', 'images/53.png', 'images/54.png', 'images/55.png', 'images/56.png', 'images/57.png', 'images/58.png', 'images/59.png', 'images/60.png', 'images/61.png', 'images/62.png', 'images/63.png', 'images/64.png', 'images/65.png', 'images/66.png', 'images/67.png', 'images/68.png', 'images/69.png', 'images/70.png', 'images/71.png', 'images/72.png', 'images/73.png', 'images/74.png', 'images/75.png', 'images/76.png', 'images/77.png', 'images/78.png', 'images/79.png', 'images/80.png', 'images/81.png', 'images/82.png', 'images/83.png', 'images/84.png', 'images/85.png', 'images/86.png', 'images/87.png', 'images/88.png', 'images/89.png', 'images/90.png', 'images/91.png', 'images/92.png', 'images/93.png', 'images/94.png', 'images/95.png', 'images/96.png', 'images/97.png', 'images/98.png', 'images/99.png', 'images/100.png', 'images/101.png', 'images/102.png', 'images/103.png', 'images/104.png', 'images/105.png', 'images/106.png', 'images/107.png', 'images/108.png', 'images/109.png', 'images/110.png', 'images/111.png', 'images/112.png', 'images/113.png', 'images/114.png', 'images/115.png', 'images/116.png', 'images/117.png', 'images/118.png', 'images/119.png', 'images/120.png', 'images/121.png', 'images/122.png', 'images/123.png', 'images/124.png', 'images/125.png', 'images/126.png', 'images/127.png', 'images/128.png', 'images/129.png', 'images/130.png', 'images/131.png', 'images/132.png', 'images/133.png', 'images/134.png', 'images/135.png', 'images/136.png', 'images/137.png', 'images/138.png', 'images/139.png', 'images/140.png', 'images/141.png', 'images/142.png', 'images/143.png', 'images/144.png', 'images/145.png', 'images/146.png', 'images/147.png', 'images/148.png', 'images/149.png', 'images/150.png', 'images/151.png', 'images/152.png', 'images/153.png', 'images/154.png', 'images/155.png', 'images/156.png', 'images/157.png', 'images/158.png', 'images/159.png', 'images/160.png', 'images/161.png', 'images/162.png', 'images/163.png', 'images/164.png', 'images/165.png', 'images/166.png', 'images/167.png', 'images/168.png', 'images/169.png', 'images/170.png', 'images/171.png', 'images/172.png', 'images/173.png', 'images/174.png', 'images/175.png', 'images/176.png', 'images/177.png', 'images/178.png', 'images/179.png', 'images/180.png', 'images/181.png', 'images/182.png', 'images/183.png', 'images/184.png', 'images/185.png', 'images/186.png', 'images/187.png', 'images/188.png', 'images/189.png', 'images/190.png', 'images/191.png', 'images/192.png', 'images/193.png', 'images/194.png', 'images/195.png', 'images/196.png', 'images/197.png', 'images/198.png', 'images/199.png', 'images/200.png', 'images/201.png', 'images/202.png', 'images/203.png', 'images/204.png', 'images/205.png', 'images/206.png', 'images/207.png', 'images/208.png', 'images/209.png', 'images/210.png', 'images/211.png', 'images/212.png', 'images/213.png', 'images/214.png', 'images/215.png', 'images/216.png', 'images/217.png', 'images/218.png', 'images/219.png', 'images/220.png', 'images/221.png', 'images/222.png', 'images/223.png', 'images/224.png', 'images/225.png', 'images/226.png', 'images/227.png', 'images/228.png', 'images/229.png', 'images/230.png', 'images/231.png', 'images/232.png', 'images/233.png', 'images/234.png', 'images/235.png', 'images/236.png', 'images/237.png', 'images/238.png', 'images/239.png', 'images/240.png', 'images/241.png', 'images/242.png', 'images/243.png', 'images/244.png', 'images/245.png', 'images/246.png', 'images/247.png', 'images/248.png', 'images/249.png', 'images/250.png', 'images/251.png', 'images/252.png', 'images/253.png', 'images/254.png', 'images/255.png', 'images/256.png', 'images/257.png', 'images/258.png', 'images/259.png', 'images/260.png', 'images/261.png', 'images/262.png', 'images/263.png', 'images/264.png', 'images/265.png', 'images/266.png', 'images/267.png', 'images/268.png', 'images/269.png', 'images/270.png', 'images/271.png', 'images/272.png', 'images/273.png', 'images/274.png', 'images/275.png', 'images/276.png', 'images/277.png', 'images/278.png', 'images/279.png', 'images/280.png', 'images/281.png', 'images/282.png', 'images/283.png', 'images/284.png', 'images/285.png', 'images/286.png', 'images/287.png', 'images/288.png', 'images/289.png', 'images/290.png', 'images/291.png', 'images/292.png', 'images/293.png', 'images/294.png', 'images/295.png', 'images/296.png', 'images/297.png', 'images/298.png', 'images/299.png']\n",
      "['/stored_data/jackal_evaluation_data/images/0.png', '/stored_data/jackal_evaluation_data/images/1.png', '/stored_data/jackal_evaluation_data/images/2.png', '/stored_data/jackal_evaluation_data/images/3.png', '/stored_data/jackal_evaluation_data/images/4.png', '/stored_data/jackal_evaluation_data/images/5.png', '/stored_data/jackal_evaluation_data/images/6.png', '/stored_data/jackal_evaluation_data/images/7.png', '/stored_data/jackal_evaluation_data/images/8.png', '/stored_data/jackal_evaluation_data/images/9.png', '/stored_data/jackal_evaluation_data/images/10.png', '/stored_data/jackal_evaluation_data/images/11.png', '/stored_data/jackal_evaluation_data/images/12.png', '/stored_data/jackal_evaluation_data/images/13.png', '/stored_data/jackal_evaluation_data/images/14.png', '/stored_data/jackal_evaluation_data/images/15.png', '/stored_data/jackal_evaluation_data/images/16.png', '/stored_data/jackal_evaluation_data/images/17.png', '/stored_data/jackal_evaluation_data/images/18.png', '/stored_data/jackal_evaluation_data/images/19.png', '/stored_data/jackal_evaluation_data/images/20.png', '/stored_data/jackal_evaluation_data/images/21.png', '/stored_data/jackal_evaluation_data/images/22.png', '/stored_data/jackal_evaluation_data/images/23.png', '/stored_data/jackal_evaluation_data/images/24.png', '/stored_data/jackal_evaluation_data/images/25.png', '/stored_data/jackal_evaluation_data/images/26.png', '/stored_data/jackal_evaluation_data/images/27.png', '/stored_data/jackal_evaluation_data/images/28.png', '/stored_data/jackal_evaluation_data/images/29.png', '/stored_data/jackal_evaluation_data/images/30.png', '/stored_data/jackal_evaluation_data/images/31.png', '/stored_data/jackal_evaluation_data/images/32.png', '/stored_data/jackal_evaluation_data/images/33.png', '/stored_data/jackal_evaluation_data/images/34.png', '/stored_data/jackal_evaluation_data/images/35.png', '/stored_data/jackal_evaluation_data/images/36.png', '/stored_data/jackal_evaluation_data/images/37.png', '/stored_data/jackal_evaluation_data/images/38.png', '/stored_data/jackal_evaluation_data/images/39.png', '/stored_data/jackal_evaluation_data/images/40.png', '/stored_data/jackal_evaluation_data/images/41.png', '/stored_data/jackal_evaluation_data/images/42.png', '/stored_data/jackal_evaluation_data/images/43.png', '/stored_data/jackal_evaluation_data/images/44.png', '/stored_data/jackal_evaluation_data/images/45.png', '/stored_data/jackal_evaluation_data/images/46.png', '/stored_data/jackal_evaluation_data/images/47.png', '/stored_data/jackal_evaluation_data/images/48.png', '/stored_data/jackal_evaluation_data/images/49.png', '/stored_data/jackal_evaluation_data/images/50.png', '/stored_data/jackal_evaluation_data/images/51.png', '/stored_data/jackal_evaluation_data/images/52.png', '/stored_data/jackal_evaluation_data/images/53.png', '/stored_data/jackal_evaluation_data/images/54.png', '/stored_data/jackal_evaluation_data/images/55.png', '/stored_data/jackal_evaluation_data/images/56.png', '/stored_data/jackal_evaluation_data/images/57.png', '/stored_data/jackal_evaluation_data/images/58.png', '/stored_data/jackal_evaluation_data/images/59.png', '/stored_data/jackal_evaluation_data/images/60.png', '/stored_data/jackal_evaluation_data/images/61.png', '/stored_data/jackal_evaluation_data/images/62.png', '/stored_data/jackal_evaluation_data/images/63.png', '/stored_data/jackal_evaluation_data/images/64.png', '/stored_data/jackal_evaluation_data/images/65.png', '/stored_data/jackal_evaluation_data/images/66.png', '/stored_data/jackal_evaluation_data/images/67.png', '/stored_data/jackal_evaluation_data/images/68.png', '/stored_data/jackal_evaluation_data/images/69.png', '/stored_data/jackal_evaluation_data/images/70.png', '/stored_data/jackal_evaluation_data/images/71.png', '/stored_data/jackal_evaluation_data/images/72.png', '/stored_data/jackal_evaluation_data/images/73.png', '/stored_data/jackal_evaluation_data/images/74.png', '/stored_data/jackal_evaluation_data/images/75.png', '/stored_data/jackal_evaluation_data/images/76.png', '/stored_data/jackal_evaluation_data/images/77.png', '/stored_data/jackal_evaluation_data/images/78.png', '/stored_data/jackal_evaluation_data/images/79.png', '/stored_data/jackal_evaluation_data/images/80.png', '/stored_data/jackal_evaluation_data/images/81.png', '/stored_data/jackal_evaluation_data/images/82.png', '/stored_data/jackal_evaluation_data/images/83.png', '/stored_data/jackal_evaluation_data/images/84.png', '/stored_data/jackal_evaluation_data/images/85.png', '/stored_data/jackal_evaluation_data/images/86.png', '/stored_data/jackal_evaluation_data/images/87.png', '/stored_data/jackal_evaluation_data/images/88.png', '/stored_data/jackal_evaluation_data/images/89.png', '/stored_data/jackal_evaluation_data/images/90.png', '/stored_data/jackal_evaluation_data/images/91.png', '/stored_data/jackal_evaluation_data/images/92.png', '/stored_data/jackal_evaluation_data/images/93.png', '/stored_data/jackal_evaluation_data/images/94.png', '/stored_data/jackal_evaluation_data/images/95.png', '/stored_data/jackal_evaluation_data/images/96.png', '/stored_data/jackal_evaluation_data/images/97.png', '/stored_data/jackal_evaluation_data/images/98.png', '/stored_data/jackal_evaluation_data/images/99.png', '/stored_data/jackal_evaluation_data/images/100.png', '/stored_data/jackal_evaluation_data/images/101.png', '/stored_data/jackal_evaluation_data/images/102.png', '/stored_data/jackal_evaluation_data/images/103.png', '/stored_data/jackal_evaluation_data/images/104.png', '/stored_data/jackal_evaluation_data/images/105.png', '/stored_data/jackal_evaluation_data/images/106.png', '/stored_data/jackal_evaluation_data/images/107.png', '/stored_data/jackal_evaluation_data/images/108.png', '/stored_data/jackal_evaluation_data/images/109.png', '/stored_data/jackal_evaluation_data/images/110.png', '/stored_data/jackal_evaluation_data/images/111.png', '/stored_data/jackal_evaluation_data/images/112.png', '/stored_data/jackal_evaluation_data/images/113.png', '/stored_data/jackal_evaluation_data/images/114.png', '/stored_data/jackal_evaluation_data/images/115.png', '/stored_data/jackal_evaluation_data/images/116.png', '/stored_data/jackal_evaluation_data/images/117.png', '/stored_data/jackal_evaluation_data/images/118.png', '/stored_data/jackal_evaluation_data/images/119.png', '/stored_data/jackal_evaluation_data/images/120.png', '/stored_data/jackal_evaluation_data/images/121.png', '/stored_data/jackal_evaluation_data/images/122.png', '/stored_data/jackal_evaluation_data/images/123.png', '/stored_data/jackal_evaluation_data/images/124.png', '/stored_data/jackal_evaluation_data/images/125.png', '/stored_data/jackal_evaluation_data/images/126.png', '/stored_data/jackal_evaluation_data/images/127.png', '/stored_data/jackal_evaluation_data/images/128.png', '/stored_data/jackal_evaluation_data/images/129.png', '/stored_data/jackal_evaluation_data/images/130.png', '/stored_data/jackal_evaluation_data/images/131.png', '/stored_data/jackal_evaluation_data/images/132.png', '/stored_data/jackal_evaluation_data/images/133.png', '/stored_data/jackal_evaluation_data/images/134.png', '/stored_data/jackal_evaluation_data/images/135.png', '/stored_data/jackal_evaluation_data/images/136.png', '/stored_data/jackal_evaluation_data/images/137.png', '/stored_data/jackal_evaluation_data/images/138.png', '/stored_data/jackal_evaluation_data/images/139.png', '/stored_data/jackal_evaluation_data/images/140.png', '/stored_data/jackal_evaluation_data/images/141.png', '/stored_data/jackal_evaluation_data/images/142.png', '/stored_data/jackal_evaluation_data/images/143.png', '/stored_data/jackal_evaluation_data/images/144.png', '/stored_data/jackal_evaluation_data/images/145.png', '/stored_data/jackal_evaluation_data/images/146.png', '/stored_data/jackal_evaluation_data/images/147.png', '/stored_data/jackal_evaluation_data/images/148.png', '/stored_data/jackal_evaluation_data/images/149.png', '/stored_data/jackal_evaluation_data/images/150.png', '/stored_data/jackal_evaluation_data/images/151.png', '/stored_data/jackal_evaluation_data/images/152.png', '/stored_data/jackal_evaluation_data/images/153.png', '/stored_data/jackal_evaluation_data/images/154.png', '/stored_data/jackal_evaluation_data/images/155.png', '/stored_data/jackal_evaluation_data/images/156.png', '/stored_data/jackal_evaluation_data/images/157.png', '/stored_data/jackal_evaluation_data/images/158.png', '/stored_data/jackal_evaluation_data/images/159.png', '/stored_data/jackal_evaluation_data/images/160.png', '/stored_data/jackal_evaluation_data/images/161.png', '/stored_data/jackal_evaluation_data/images/162.png', '/stored_data/jackal_evaluation_data/images/163.png', '/stored_data/jackal_evaluation_data/images/164.png', '/stored_data/jackal_evaluation_data/images/165.png', '/stored_data/jackal_evaluation_data/images/166.png', '/stored_data/jackal_evaluation_data/images/167.png', '/stored_data/jackal_evaluation_data/images/168.png', '/stored_data/jackal_evaluation_data/images/169.png', '/stored_data/jackal_evaluation_data/images/170.png', '/stored_data/jackal_evaluation_data/images/171.png', '/stored_data/jackal_evaluation_data/images/172.png', '/stored_data/jackal_evaluation_data/images/173.png', '/stored_data/jackal_evaluation_data/images/174.png', '/stored_data/jackal_evaluation_data/images/175.png', '/stored_data/jackal_evaluation_data/images/176.png', '/stored_data/jackal_evaluation_data/images/177.png', '/stored_data/jackal_evaluation_data/images/178.png', '/stored_data/jackal_evaluation_data/images/179.png', '/stored_data/jackal_evaluation_data/images/180.png', '/stored_data/jackal_evaluation_data/images/181.png', '/stored_data/jackal_evaluation_data/images/182.png', '/stored_data/jackal_evaluation_data/images/183.png', '/stored_data/jackal_evaluation_data/images/184.png', '/stored_data/jackal_evaluation_data/images/185.png', '/stored_data/jackal_evaluation_data/images/186.png', '/stored_data/jackal_evaluation_data/images/187.png', '/stored_data/jackal_evaluation_data/images/188.png', '/stored_data/jackal_evaluation_data/images/189.png', '/stored_data/jackal_evaluation_data/images/190.png', '/stored_data/jackal_evaluation_data/images/191.png', '/stored_data/jackal_evaluation_data/images/192.png', '/stored_data/jackal_evaluation_data/images/193.png', '/stored_data/jackal_evaluation_data/images/194.png', '/stored_data/jackal_evaluation_data/images/195.png', '/stored_data/jackal_evaluation_data/images/196.png', '/stored_data/jackal_evaluation_data/images/197.png', '/stored_data/jackal_evaluation_data/images/198.png', '/stored_data/jackal_evaluation_data/images/199.png', '/stored_data/jackal_evaluation_data/images/200.png', '/stored_data/jackal_evaluation_data/images/201.png', '/stored_data/jackal_evaluation_data/images/202.png', '/stored_data/jackal_evaluation_data/images/203.png', '/stored_data/jackal_evaluation_data/images/204.png', '/stored_data/jackal_evaluation_data/images/205.png', '/stored_data/jackal_evaluation_data/images/206.png', '/stored_data/jackal_evaluation_data/images/207.png', '/stored_data/jackal_evaluation_data/images/208.png', '/stored_data/jackal_evaluation_data/images/209.png', '/stored_data/jackal_evaluation_data/images/210.png', '/stored_data/jackal_evaluation_data/images/211.png', '/stored_data/jackal_evaluation_data/images/212.png', '/stored_data/jackal_evaluation_data/images/213.png', '/stored_data/jackal_evaluation_data/images/214.png', '/stored_data/jackal_evaluation_data/images/215.png', '/stored_data/jackal_evaluation_data/images/216.png', '/stored_data/jackal_evaluation_data/images/217.png', '/stored_data/jackal_evaluation_data/images/218.png', '/stored_data/jackal_evaluation_data/images/219.png', '/stored_data/jackal_evaluation_data/images/220.png', '/stored_data/jackal_evaluation_data/images/221.png', '/stored_data/jackal_evaluation_data/images/222.png', '/stored_data/jackal_evaluation_data/images/223.png', '/stored_data/jackal_evaluation_data/images/224.png', '/stored_data/jackal_evaluation_data/images/225.png', '/stored_data/jackal_evaluation_data/images/226.png', '/stored_data/jackal_evaluation_data/images/227.png', '/stored_data/jackal_evaluation_data/images/228.png', '/stored_data/jackal_evaluation_data/images/229.png', '/stored_data/jackal_evaluation_data/images/230.png', '/stored_data/jackal_evaluation_data/images/231.png', '/stored_data/jackal_evaluation_data/images/232.png', '/stored_data/jackal_evaluation_data/images/233.png', '/stored_data/jackal_evaluation_data/images/234.png', '/stored_data/jackal_evaluation_data/images/235.png', '/stored_data/jackal_evaluation_data/images/236.png', '/stored_data/jackal_evaluation_data/images/237.png', '/stored_data/jackal_evaluation_data/images/238.png', '/stored_data/jackal_evaluation_data/images/239.png', '/stored_data/jackal_evaluation_data/images/240.png', '/stored_data/jackal_evaluation_data/images/241.png', '/stored_data/jackal_evaluation_data/images/242.png', '/stored_data/jackal_evaluation_data/images/243.png', '/stored_data/jackal_evaluation_data/images/244.png', '/stored_data/jackal_evaluation_data/images/245.png', '/stored_data/jackal_evaluation_data/images/246.png', '/stored_data/jackal_evaluation_data/images/247.png', '/stored_data/jackal_evaluation_data/images/248.png', '/stored_data/jackal_evaluation_data/images/249.png', '/stored_data/jackal_evaluation_data/images/250.png', '/stored_data/jackal_evaluation_data/images/251.png', '/stored_data/jackal_evaluation_data/images/252.png', '/stored_data/jackal_evaluation_data/images/253.png', '/stored_data/jackal_evaluation_data/images/254.png', '/stored_data/jackal_evaluation_data/images/255.png', '/stored_data/jackal_evaluation_data/images/256.png', '/stored_data/jackal_evaluation_data/images/257.png', '/stored_data/jackal_evaluation_data/images/258.png', '/stored_data/jackal_evaluation_data/images/259.png', '/stored_data/jackal_evaluation_data/images/260.png', '/stored_data/jackal_evaluation_data/images/261.png', '/stored_data/jackal_evaluation_data/images/262.png', '/stored_data/jackal_evaluation_data/images/263.png', '/stored_data/jackal_evaluation_data/images/264.png', '/stored_data/jackal_evaluation_data/images/265.png', '/stored_data/jackal_evaluation_data/images/266.png', '/stored_data/jackal_evaluation_data/images/267.png', '/stored_data/jackal_evaluation_data/images/268.png', '/stored_data/jackal_evaluation_data/images/269.png', '/stored_data/jackal_evaluation_data/images/270.png', '/stored_data/jackal_evaluation_data/images/271.png', '/stored_data/jackal_evaluation_data/images/272.png', '/stored_data/jackal_evaluation_data/images/273.png', '/stored_data/jackal_evaluation_data/images/274.png', '/stored_data/jackal_evaluation_data/images/275.png', '/stored_data/jackal_evaluation_data/images/276.png', '/stored_data/jackal_evaluation_data/images/277.png', '/stored_data/jackal_evaluation_data/images/278.png', '/stored_data/jackal_evaluation_data/images/279.png', '/stored_data/jackal_evaluation_data/images/280.png', '/stored_data/jackal_evaluation_data/images/281.png', '/stored_data/jackal_evaluation_data/images/282.png', '/stored_data/jackal_evaluation_data/images/283.png', '/stored_data/jackal_evaluation_data/images/284.png', '/stored_data/jackal_evaluation_data/images/285.png', '/stored_data/jackal_evaluation_data/images/286.png', '/stored_data/jackal_evaluation_data/images/287.png', '/stored_data/jackal_evaluation_data/images/288.png', '/stored_data/jackal_evaluation_data/images/289.png', '/stored_data/jackal_evaluation_data/images/290.png', '/stored_data/jackal_evaluation_data/images/291.png', '/stored_data/jackal_evaluation_data/images/292.png', '/stored_data/jackal_evaluation_data/images/293.png', '/stored_data/jackal_evaluation_data/images/294.png', '/stored_data/jackal_evaluation_data/images/295.png', '/stored_data/jackal_evaluation_data/images/296.png', '/stored_data/jackal_evaluation_data/images/297.png', '/stored_data/jackal_evaluation_data/images/298.png', '/stored_data/jackal_evaluation_data/images/299.png']\n",
      "Cameras(camera_to_worlds=tensor([[ 0.7735,  0.4365, -0.4595, -1.8563],\n",
      "        [-0.6334,  0.5572, -0.5369, -2.0390],\n",
      "        [ 0.0217,  0.7064,  0.7075,  2.5000]]), fx=tensor([1128.5714]), fy=tensor([1128.5714]), cx=tensor([640.]), cy=tensor([360.]), width=tensor([1280]), height=tensor([720]), distortion_params=tensor([0., 0., 0., 0., 0., 0.]), camera_type=tensor([1]), times=None, metadata=None)\n"
     ]
    },
    {
     "data": {
      "text/html": [
       "<pre style=\"white-space:pre;overflow-x:auto;line-height:normal;font-family:Menlo,'DejaVu Sans Mono',consolas,'Courier New',monospace\">Setting up training dataset<span style=\"color: #808000; text-decoration-color: #808000\">...</span>\n",
       "</pre>\n"
      ],
      "text/plain": [
       "Setting up training dataset\u001b[33m...\u001b[0m\n"
      ]
     },
     "metadata": {},
     "output_type": "display_data"
    },
    {
     "data": {
      "text/html": [
       "<pre style=\"white-space:pre;overflow-x:auto;line-height:normal;font-family:Menlo,'DejaVu Sans Mono',consolas,'Courier New',monospace\">Caching all <span style=\"color: #008080; text-decoration-color: #008080; font-weight: bold\">300</span> images.\n",
       "</pre>\n"
      ],
      "text/plain": [
       "Caching all \u001b[1;36m300\u001b[0m images.\n"
      ]
     },
     "metadata": {},
     "output_type": "display_data"
    },
    {
     "data": {
      "application/vnd.jupyter.widget-view+json": {
       "model_id": "55dab6cc7edb4d3390ccc3a369a2e137",
       "version_major": 2,
       "version_minor": 0
      },
      "text/plain": [
       "Output()"
      ]
     },
     "metadata": {},
     "output_type": "display_data"
    },
    {
     "data": {
      "text/html": [
       "<pre style=\"white-space:pre;overflow-x:auto;line-height:normal;font-family:Menlo,'DejaVu Sans Mono',consolas,'Courier New',monospace\"></pre>\n"
      ],
      "text/plain": []
     },
     "metadata": {},
     "output_type": "display_data"
    },
    {
     "data": {
      "text/html": [
       "<pre style=\"white-space:pre;overflow-x:auto;line-height:normal;font-family:Menlo,'DejaVu Sans Mono',consolas,'Courier New',monospace\">\n",
       "</pre>\n"
      ],
      "text/plain": [
       "\n"
      ]
     },
     "metadata": {},
     "output_type": "display_data"
    }
   ],
   "source": [
    "eval_image(pipeline,transform,EVAL_PATH)"
   ]
  }
 ],
 "metadata": {
  "kernelspec": {
   "display_name": "Python 3",
   "language": "python",
   "name": "python3"
  },
  "language_info": {
   "codemirror_mode": {
    "name": "ipython",
    "version": 3
   },
   "file_extension": ".py",
   "mimetype": "text/x-python",
   "name": "python",
   "nbconvert_exporter": "python",
   "pygments_lexer": "ipython3",
   "version": "3.10.12"
  }
 },
 "nbformat": 4,
 "nbformat_minor": 2
}
