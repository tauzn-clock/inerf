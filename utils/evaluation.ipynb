{
 "cells": [
  {
   "cell_type": "code",
   "execution_count": 1,
   "metadata": {},
   "outputs": [],
   "source": [
    "%load_ext autoreload\n",
    "%autoreload 2\n",
    "%matplotlib inline"
   ]
  },
  {
   "cell_type": "code",
   "execution_count": 2,
   "metadata": {},
   "outputs": [
    {
     "name": "stdout",
     "output_type": "stream",
     "text": [
      "Jupyter environment detected. Enabling Open3D WebVisualizer.\n",
      "[Open3D INFO] WebRTC GUI backend enabled.\n",
      "[Open3D INFO] WebRTCWindowSystem: HTTP handshake server disabled.\n"
     ]
    }
   ],
   "source": [
    "import sys\n",
    "import os\n",
    "import json\n",
    "import torch\n",
    "import yaml\n",
    "import numpy as np\n",
    "import cv2\n",
    "import copy\n",
    "from pathlib import Path\n",
    "import matplotlib.pyplot as plt\n",
    "from PIL import Image\n",
    "from nerfstudio.utils.eval_utils import eval_setup\n",
    "from inerf.inerf_utils import eval_image"
   ]
  },
  {
   "cell_type": "code",
   "execution_count": 3,
   "metadata": {},
   "outputs": [],
   "source": [
    "os.chdir('/workspace')\n",
    "MODEL_PATH = \"/workspace/outputs/jackal_training_data_5/plane-nerf/2024-01-14_133459\"\n",
    "EVAL_PATH = \"/stored_data/jackal_evaluation_data\"\n",
    "\n",
    "TRANSFORM_PATH = os.path.join(EVAL_PATH, \"transforms.json\")\n",
    "with open(TRANSFORM_PATH) as f:\n",
    "    transform = json.load(f)\n"
   ]
  },
  {
   "cell_type": "code",
   "execution_count": 4,
   "metadata": {},
   "outputs": [
    {
     "data": {
      "text/html": [
       "<pre style=\"white-space:pre;overflow-x:auto;line-height:normal;font-family:Menlo,'DejaVu Sans Mono',consolas,'Courier New',monospace\">\n",
       "</pre>\n"
      ],
      "text/plain": [
       "\n"
      ]
     },
     "metadata": {},
     "output_type": "display_data"
    },
    {
     "data": {
      "text/html": [
       "<pre style=\"white-space:pre;overflow-x:auto;line-height:normal;font-family:Menlo,'DejaVu Sans Mono',consolas,'Courier New',monospace\"><span style=\"color: #808000; text-decoration-color: #808000; font-weight: bold\">WARNING: Using slower TCNN CutlassMLP instead of TCNN FullyFusedMLP</span>\n",
       "</pre>\n"
      ],
      "text/plain": [
       "\u001b[1;33mWARNING: Using slower TCNN CutlassMLP instead of TCNN FullyFusedMLP\u001b[0m\n"
      ]
     },
     "metadata": {},
     "output_type": "display_data"
    },
    {
     "data": {
      "text/html": [
       "<pre style=\"white-space:pre;overflow-x:auto;line-height:normal;font-family:Menlo,'DejaVu Sans Mono',consolas,'Courier New',monospace\"><span style=\"color: #808000; text-decoration-color: #808000; font-weight: bold\">Use layer width of </span><span style=\"color: #808000; text-decoration-color: #808000; font-weight: bold\">16</span><span style=\"color: #808000; text-decoration-color: #808000; font-weight: bold\">, </span><span style=\"color: #808000; text-decoration-color: #808000; font-weight: bold\">32</span><span style=\"color: #808000; text-decoration-color: #808000; font-weight: bold\">, </span><span style=\"color: #808000; text-decoration-color: #808000; font-weight: bold\">64</span><span style=\"color: #808000; text-decoration-color: #808000; font-weight: bold\">, or </span><span style=\"color: #808000; text-decoration-color: #808000; font-weight: bold\">128</span><span style=\"color: #808000; text-decoration-color: #808000; font-weight: bold\"> to use the faster TCNN FullyFusedMLP.</span>\n",
       "</pre>\n"
      ],
      "text/plain": [
       "\u001b[1;33mUse layer width of \u001b[0m\u001b[1;33m16\u001b[0m\u001b[1;33m, \u001b[0m\u001b[1;33m32\u001b[0m\u001b[1;33m, \u001b[0m\u001b[1;33m64\u001b[0m\u001b[1;33m, or \u001b[0m\u001b[1;33m128\u001b[0m\u001b[1;33m to use the faster TCNN FullyFusedMLP.\u001b[0m\n"
      ]
     },
     "metadata": {},
     "output_type": "display_data"
    },
    {
     "data": {
      "text/html": [
       "<pre style=\"white-space:pre;overflow-x:auto;line-height:normal;font-family:Menlo,'DejaVu Sans Mono',consolas,'Courier New',monospace\">\n",
       "</pre>\n"
      ],
      "text/plain": [
       "\n"
      ]
     },
     "metadata": {},
     "output_type": "display_data"
    },
    {
     "data": {
      "text/html": [
       "<pre style=\"white-space:pre;overflow-x:auto;line-height:normal;font-family:Menlo,'DejaVu Sans Mono',consolas,'Courier New',monospace\">\n",
       "</pre>\n"
      ],
      "text/plain": [
       "\n"
      ]
     },
     "metadata": {},
     "output_type": "display_data"
    },
    {
     "data": {
      "text/html": [
       "<pre style=\"white-space:pre;overflow-x:auto;line-height:normal;font-family:Menlo,'DejaVu Sans Mono',consolas,'Courier New',monospace\"><span style=\"color: #808000; text-decoration-color: #808000; font-weight: bold\">WARNING: Using slower TCNN CutlassMLP instead of TCNN FullyFusedMLP</span>\n",
       "</pre>\n"
      ],
      "text/plain": [
       "\u001b[1;33mWARNING: Using slower TCNN CutlassMLP instead of TCNN FullyFusedMLP\u001b[0m\n"
      ]
     },
     "metadata": {},
     "output_type": "display_data"
    },
    {
     "data": {
      "text/html": [
       "<pre style=\"white-space:pre;overflow-x:auto;line-height:normal;font-family:Menlo,'DejaVu Sans Mono',consolas,'Courier New',monospace\"><span style=\"color: #808000; text-decoration-color: #808000; font-weight: bold\">Use layer width of </span><span style=\"color: #808000; text-decoration-color: #808000; font-weight: bold\">16</span><span style=\"color: #808000; text-decoration-color: #808000; font-weight: bold\">, </span><span style=\"color: #808000; text-decoration-color: #808000; font-weight: bold\">32</span><span style=\"color: #808000; text-decoration-color: #808000; font-weight: bold\">, </span><span style=\"color: #808000; text-decoration-color: #808000; font-weight: bold\">64</span><span style=\"color: #808000; text-decoration-color: #808000; font-weight: bold\">, or </span><span style=\"color: #808000; text-decoration-color: #808000; font-weight: bold\">128</span><span style=\"color: #808000; text-decoration-color: #808000; font-weight: bold\"> to use the faster TCNN FullyFusedMLP.</span>\n",
       "</pre>\n"
      ],
      "text/plain": [
       "\u001b[1;33mUse layer width of \u001b[0m\u001b[1;33m16\u001b[0m\u001b[1;33m, \u001b[0m\u001b[1;33m32\u001b[0m\u001b[1;33m, \u001b[0m\u001b[1;33m64\u001b[0m\u001b[1;33m, or \u001b[0m\u001b[1;33m128\u001b[0m\u001b[1;33m to use the faster TCNN FullyFusedMLP.\u001b[0m\n"
      ]
     },
     "metadata": {},
     "output_type": "display_data"
    },
    {
     "data": {
      "text/html": [
       "<pre style=\"white-space:pre;overflow-x:auto;line-height:normal;font-family:Menlo,'DejaVu Sans Mono',consolas,'Courier New',monospace\">\n",
       "</pre>\n"
      ],
      "text/plain": [
       "\n"
      ]
     },
     "metadata": {},
     "output_type": "display_data"
    },
    {
     "name": "stdout",
     "output_type": "stream",
     "text": [
      "Warning: FullyFusedMLP is not supported for the selected architecture 37. Falling back to CutlassMLP. For maximum performance, raise the target GPU architecture to 75+.\n",
      "Warning: FullyFusedMLP is not supported for the selected architecture 37. Falling back to CutlassMLP. For maximum performance, raise the target GPU architecture to 75+.\n",
      "Warning: FullyFusedMLP is not supported for the selected architecture 37. Falling back to CutlassMLP. For maximum performance, raise the target GPU architecture to 75+.\n",
      "Warning: FullyFusedMLP is not supported for the selected architecture 37. Falling back to CutlassMLP. For maximum performance, raise the target GPU architecture to 75+.\n"
     ]
    },
    {
     "data": {
      "text/html": [
       "<pre style=\"white-space:pre;overflow-x:auto;line-height:normal;font-family:Menlo,'DejaVu Sans Mono',consolas,'Courier New',monospace\">Loading latest checkpoint from load_dir\n",
       "</pre>\n"
      ],
      "text/plain": [
       "Loading latest checkpoint from load_dir\n"
      ]
     },
     "metadata": {},
     "output_type": "display_data"
    },
    {
     "data": {
      "text/html": [
       "<pre style=\"white-space:pre;overflow-x:auto;line-height:normal;font-family:Menlo,'DejaVu Sans Mono',consolas,'Courier New',monospace\">✅ Done loading checkpoint from \n",
       "outputs/jackal_training_data_5/plane-nerf/<span style=\"color: #008080; text-decoration-color: #008080; font-weight: bold\">2024</span>-<span style=\"color: #008080; text-decoration-color: #008080; font-weight: bold\">01</span>-14_133459/nerfstudio_models/step-<span style=\"color: #008080; text-decoration-color: #008080; font-weight: bold\">000009999.</span>ckpt\n",
       "</pre>\n"
      ],
      "text/plain": [
       "✅ Done loading checkpoint from \n",
       "outputs/jackal_training_data_5/plane-nerf/\u001b[1;36m2024\u001b[0m-\u001b[1;36m01\u001b[0m-14_133459/nerfstudio_models/step-\u001b[1;36m000009999.\u001b[0mckpt\n"
      ]
     },
     "metadata": {},
     "output_type": "display_data"
    }
   ],
   "source": [
    "config_path = os.path.join(MODEL_PATH, \"config.yml\")\n",
    "config, pipeline, checkpoint_path, _ = eval_setup(\n",
    "                        Path(config_path),\n",
    "                        test_mode=\"inference\",\n",
    "                    )"
   ]
  },
  {
   "cell_type": "code",
   "execution_count": 6,
   "metadata": {},
   "outputs": [
    {
     "data": {
      "text/html": [
       "<pre style=\"white-space:pre;overflow-x:auto;line-height:normal;font-family:Menlo,'DejaVu Sans Mono',consolas,'Courier New',monospace\">Setting up training dataset<span style=\"color: #808000; text-decoration-color: #808000\">...</span>\n",
       "</pre>\n"
      ],
      "text/plain": [
       "Setting up training dataset\u001b[33m...\u001b[0m\n"
      ]
     },
     "metadata": {},
     "output_type": "display_data"
    },
    {
     "data": {
      "text/html": [
       "<pre style=\"white-space:pre;overflow-x:auto;line-height:normal;font-family:Menlo,'DejaVu Sans Mono',consolas,'Courier New',monospace\">Caching all <span style=\"color: #008080; text-decoration-color: #008080; font-weight: bold\">500</span> images.\n",
       "</pre>\n"
      ],
      "text/plain": [
       "Caching all \u001b[1;36m500\u001b[0m images.\n"
      ]
     },
     "metadata": {},
     "output_type": "display_data"
    },
    {
     "data": {
      "text/html": [
       "<pre style=\"white-space:pre;overflow-x:auto;line-height:normal;font-family:Menlo,'DejaVu Sans Mono',consolas,'Courier New',monospace\">images/111.png\n",
       "</pre>\n"
      ],
      "text/plain": [
       "images/111.png\n"
      ]
     },
     "metadata": {},
     "output_type": "display_data"
    },
    {
     "data": {
      "application/vnd.jupyter.widget-view+json": {
       "model_id": "c27fe7ab244e40f8934987185d9434af",
       "version_major": 2,
       "version_minor": 0
      },
      "text/plain": [
       "Output()"
      ]
     },
     "metadata": {},
     "output_type": "display_data"
    },
    {
     "data": {
      "text/html": [
       "<pre style=\"white-space:pre;overflow-x:auto;line-height:normal;font-family:Menlo,'DejaVu Sans Mono',consolas,'Courier New',monospace\">images/356.png\n",
       "</pre>\n"
      ],
      "text/plain": [
       "images/356.png\n"
      ]
     },
     "metadata": {},
     "output_type": "display_data"
    },
    {
     "data": {
      "text/html": [
       "<pre style=\"white-space:pre;overflow-x:auto;line-height:normal;font-family:Menlo,'DejaVu Sans Mono',consolas,'Courier New',monospace\">images/281.png\n",
       "</pre>\n"
      ],
      "text/plain": [
       "images/281.png\n"
      ]
     },
     "metadata": {},
     "output_type": "display_data"
    },
    {
     "data": {
      "text/html": [
       "<pre style=\"white-space:pre;overflow-x:auto;line-height:normal;font-family:Menlo,'DejaVu Sans Mono',consolas,'Courier New',monospace\">images/138.png\n",
       "</pre>\n"
      ],
      "text/plain": [
       "images/138.png\n"
      ]
     },
     "metadata": {},
     "output_type": "display_data"
    },
    {
     "data": {
      "text/html": [
       "<pre style=\"white-space:pre;overflow-x:auto;line-height:normal;font-family:Menlo,'DejaVu Sans Mono',consolas,'Courier New',monospace\">images/315.png\n",
       "</pre>\n"
      ],
      "text/plain": [
       "images/315.png\n"
      ]
     },
     "metadata": {},
     "output_type": "display_data"
    },
    {
     "data": {
      "text/html": [
       "<pre style=\"white-space:pre;overflow-x:auto;line-height:normal;font-family:Menlo,'DejaVu Sans Mono',consolas,'Courier New',monospace\">images/461.png\n",
       "</pre>\n"
      ],
      "text/plain": [
       "images/461.png\n"
      ]
     },
     "metadata": {},
     "output_type": "display_data"
    },
    {
     "data": {
      "text/html": [
       "<pre style=\"white-space:pre;overflow-x:auto;line-height:normal;font-family:Menlo,'DejaVu Sans Mono',consolas,'Courier New',monospace\">images/92.png\n",
       "</pre>\n"
      ],
      "text/plain": [
       "images/92.png\n"
      ]
     },
     "metadata": {},
     "output_type": "display_data"
    },
    {
     "data": {
      "text/html": [
       "<pre style=\"white-space:pre;overflow-x:auto;line-height:normal;font-family:Menlo,'DejaVu Sans Mono',consolas,'Courier New',monospace\">images/233.png\n",
       "</pre>\n"
      ],
      "text/plain": [
       "images/233.png\n"
      ]
     },
     "metadata": {},
     "output_type": "display_data"
    },
    {
     "name": "stdout",
     "output_type": "stream",
     "text": [
      "images/452.png\n",
      "images/457.png\n",
      "images/109.png\n",
      "images/297.png\n",
      "images/241.png\n",
      "images/204.png\n",
      "images/62.png\n",
      "images/165.png\n",
      "images/48.png\n",
      "images/168.png\n",
      "images/117.png\n",
      "images/345.png\n",
      "images/292.png\n",
      "images/299.png\n",
      "images/182.png\n",
      "images/29.png\n",
      "images/174.png\n",
      "images/393.png\n",
      "images/375.png\n",
      "images/434.png\n",
      "images/428.png\n",
      "images/476.png\n",
      "images/239.png\n",
      "images/12.png\n",
      "images/201.png\n",
      "images/122.png\n",
      "images/404.png\n",
      "images/359.png\n",
      "images/51.png\n",
      "images/127.png\n",
      "images/242.png\n",
      "images/266.png\n",
      "images/173.png\n",
      "images/280.png\n",
      "images/429.png\n",
      "images/354.png\n",
      "images/459.png\n",
      "images/318.png\n",
      "images/279.png\n",
      "images/107.png\n",
      "images/443.png\n",
      "images/489.png\n",
      "images/206.png\n",
      "images/162.png\n",
      "images/246.png\n",
      "images/442.png\n",
      "images/351.png\n",
      "images/295.png\n",
      "images/39.png\n",
      "images/312.png\n",
      "images/214.png\n",
      "images/382.png\n",
      "images/447.png\n",
      "images/222.png\n",
      "images/282.png\n",
      "images/83.png\n",
      "images/333.png\n",
      "images/383.png\n",
      "images/335.png\n",
      "images/22.png\n",
      "images/371.png\n",
      "images/18.png\n",
      "images/160.png\n",
      "images/495.png\n",
      "images/341.png\n",
      "images/444.png\n",
      "images/470.png\n",
      "images/33.png\n",
      "images/469.png\n",
      "images/137.png\n",
      "images/260.png\n",
      "images/344.png\n",
      "images/240.png\n",
      "images/151.png\n",
      "images/409.png\n",
      "images/57.png\n",
      "images/367.png\n",
      "images/353.png\n",
      "images/492.png\n",
      "images/462.png\n",
      "images/259.png\n",
      "images/498.png\n",
      "images/317.png\n",
      "images/164.png\n",
      "images/250.png\n",
      "images/147.png\n",
      "images/337.png\n",
      "images/32.png\n",
      "images/334.png\n",
      "images/86.png\n",
      "images/338.png\n",
      "images/420.png\n",
      "images/42.png\n",
      "images/416.png\n",
      "images/90.png\n",
      "images/136.png\n",
      "images/229.png\n",
      "images/363.png\n",
      "images/96.png\n",
      "images/323.png\n",
      "images/55.png\n",
      "images/27.png\n",
      "images/251.png\n",
      "images/194.png\n",
      "images/59.png\n",
      "images/30.png\n",
      "images/88.png\n",
      "images/202.png\n",
      "images/11.png\n",
      "images/435.png\n",
      "images/261.png\n",
      "images/362.png\n",
      "images/64.png\n",
      "images/69.png\n",
      "images/94.png\n",
      "images/99.png\n",
      "images/347.png\n",
      "images/205.png\n",
      "images/306.png\n",
      "images/440.png\n",
      "images/439.png\n",
      "images/303.png\n",
      "images/125.png\n",
      "images/7.png\n",
      "images/21.png\n",
      "images/180.png\n",
      "images/124.png\n",
      "images/286.png\n",
      "images/388.png\n",
      "images/455.png\n",
      "images/105.png\n",
      "images/203.png\n",
      "images/128.png\n",
      "images/450.png\n",
      "images/235.png\n",
      "images/414.png\n",
      "images/408.png\n",
      "images/465.png\n",
      "images/412.png\n",
      "images/454.png\n",
      "images/252.png\n",
      "images/328.png\n",
      "images/433.png\n",
      "images/340.png\n",
      "images/269.png\n",
      "images/24.png\n",
      "images/148.png\n",
      "images/23.png\n",
      "images/485.png\n",
      "images/139.png\n",
      "images/320.png\n",
      "images/112.png\n",
      "images/66.png\n",
      "images/327.png\n",
      "images/291.png\n",
      "images/98.png\n",
      "images/264.png\n",
      "images/482.png\n",
      "images/154.png\n",
      "images/381.png\n",
      "images/419.png\n",
      "images/249.png\n",
      "images/37.png\n",
      "images/436.png\n",
      "images/35.png\n",
      "images/54.png\n",
      "images/331.png\n",
      "images/41.png\n",
      "images/277.png\n",
      "images/474.png\n",
      "images/78.png\n",
      "images/370.png\n",
      "images/113.png\n",
      "images/20.png\n",
      "images/178.png\n",
      "images/132.png\n",
      "images/490.png\n",
      "images/322.png\n",
      "images/131.png\n",
      "images/106.png\n",
      "images/103.png\n",
      "images/421.png\n",
      "images/319.png\n",
      "images/418.png\n",
      "images/275.png\n",
      "images/213.png\n",
      "images/463.png\n",
      "images/488.png\n",
      "images/467.png\n",
      "images/195.png\n",
      "images/396.png\n",
      "images/77.png\n",
      "images/190.png\n",
      "images/5.png\n",
      "images/216.png\n",
      "images/426.png\n",
      "images/187.png\n",
      "images/76.png\n",
      "images/184.png\n",
      "images/268.png\n",
      "images/188.png\n",
      "images/40.png\n",
      "images/289.png\n",
      "images/34.png\n",
      "images/385.png\n",
      "images/171.png\n",
      "images/422.png\n",
      "images/423.png\n",
      "images/405.png\n",
      "images/153.png\n",
      "images/104.png\n",
      "images/357.png\n",
      "images/446.png\n",
      "images/129.png\n",
      "images/157.png\n",
      "images/43.png\n",
      "images/386.png\n",
      "images/156.png\n",
      "images/209.png\n",
      "images/4.png\n",
      "images/496.png\n",
      "images/224.png\n",
      "images/293.png\n",
      "images/451.png\n",
      "images/411.png\n",
      "images/402.png\n",
      "images/484.png\n",
      "images/477.png\n",
      "images/342.png\n",
      "images/49.png\n",
      "images/305.png\n",
      "images/288.png\n",
      "images/25.png\n",
      "images/189.png\n",
      "images/326.png\n",
      "images/417.png\n",
      "images/84.png\n",
      "images/267.png\n",
      "images/215.png\n",
      "images/358.png\n",
      "images/134.png\n",
      "images/47.png\n",
      "images/407.png\n",
      "images/330.png\n",
      "images/56.png\n",
      "images/152.png\n",
      "images/80.png\n",
      "images/167.png\n",
      "images/290.png\n",
      "images/141.png\n",
      "images/183.png\n",
      "images/472.png\n",
      "images/223.png\n",
      "images/372.png\n",
      "images/63.png\n",
      "images/79.png\n",
      "images/3.png\n",
      "images/361.png\n",
      "images/487.png\n",
      "images/378.png\n",
      "images/15.png\n",
      "images/245.png\n",
      "images/458.png\n",
      "images/401.png\n",
      "images/445.png\n",
      "images/413.png\n",
      "images/397.png\n",
      "images/283.png\n",
      "images/121.png\n",
      "images/301.png\n",
      "images/284.png\n",
      "images/207.png\n",
      "images/377.png\n",
      "images/243.png\n",
      "images/254.png\n",
      "images/1.png\n",
      "images/276.png\n",
      "images/479.png\n",
      "images/91.png\n",
      "images/389.png\n",
      "images/45.png\n",
      "images/158.png\n",
      "images/346.png\n",
      "images/316.png\n",
      "images/365.png\n",
      "images/179.png\n",
      "images/9.png\n",
      "images/339.png\n",
      "images/349.png\n",
      "images/324.png\n",
      "images/374.png\n",
      "images/449.png\n",
      "images/36.png\n",
      "images/14.png\n",
      "images/391.png\n",
      "images/311.png\n",
      "images/466.png\n",
      "images/73.png\n",
      "images/294.png\n",
      "images/144.png\n",
      "images/427.png\n",
      "images/364.png\n",
      "images/410.png\n",
      "images/448.png\n",
      "images/50.png\n",
      "images/146.png\n",
      "images/114.png\n",
      "images/348.png\n",
      "images/308.png\n",
      "images/300.png\n",
      "images/272.png\n",
      "images/60.png\n",
      "images/373.png\n",
      "images/368.png\n",
      "images/116.png\n",
      "images/175.png\n",
      "images/285.png\n",
      "images/218.png\n",
      "images/61.png\n",
      "images/198.png\n",
      "images/46.png\n",
      "images/120.png\n",
      "images/438.png\n",
      "images/65.png\n",
      "images/274.png\n",
      "images/52.png\n",
      "images/6.png\n",
      "images/473.png\n",
      "images/471.png\n",
      "images/227.png\n",
      "images/387.png\n",
      "images/225.png\n",
      "images/133.png\n",
      "images/221.png\n",
      "images/210.png\n",
      "images/336.png\n",
      "images/265.png\n",
      "images/343.png\n",
      "images/145.png\n",
      "images/172.png\n",
      "images/296.png\n",
      "images/196.png\n",
      "images/149.png\n",
      "images/89.png\n",
      "images/244.png\n",
      "images/53.png\n",
      "images/217.png\n",
      "images/415.png\n",
      "images/58.png\n",
      "images/219.png\n",
      "images/181.png\n",
      "images/177.png\n",
      "images/430.png\n",
      "images/395.png\n",
      "images/493.png\n",
      "images/271.png\n",
      "images/255.png\n",
      "images/424.png\n",
      "images/95.png\n",
      "images/226.png\n",
      "images/441.png\n",
      "images/8.png\n",
      "images/228.png\n",
      "images/13.png\n",
      "images/313.png\n",
      "images/192.png\n",
      "images/155.png\n",
      "images/253.png\n",
      "images/72.png\n",
      "images/170.png\n",
      "images/87.png\n",
      "images/232.png\n",
      "images/497.png\n",
      "images/85.png\n",
      "images/0.png\n",
      "images/384.png\n",
      "images/118.png\n",
      "images/238.png\n",
      "images/19.png\n",
      "images/332.png\n",
      "images/287.png\n",
      "images/211.png\n",
      "images/67.png\n",
      "images/161.png\n",
      "images/379.png\n",
      "images/400.png\n",
      "images/74.png\n",
      "images/468.png\n",
      "images/258.png\n",
      "images/262.png\n",
      "images/2.png\n",
      "images/376.png\n",
      "images/453.png\n",
      "images/263.png\n",
      "images/460.png\n",
      "images/304.png\n",
      "images/163.png\n",
      "images/478.png\n",
      "images/480.png\n",
      "images/176.png\n",
      "images/406.png\n",
      "images/475.png\n",
      "images/100.png\n",
      "images/360.png\n",
      "images/68.png\n",
      "images/17.png\n",
      "images/44.png\n",
      "images/350.png\n",
      "images/366.png\n",
      "images/352.png\n",
      "images/273.png\n",
      "images/456.png\n",
      "images/298.png\n",
      "images/307.png\n",
      "images/437.png\n",
      "images/108.png\n",
      "images/399.png\n",
      "images/199.png\n",
      "images/325.png\n",
      "images/75.png\n",
      "images/208.png\n",
      "images/278.png\n",
      "images/310.png\n",
      "images/491.png\n",
      "images/26.png\n",
      "images/499.png\n",
      "images/394.png\n",
      "images/70.png\n",
      "images/71.png\n",
      "images/28.png\n",
      "images/425.png\n",
      "images/142.png\n",
      "images/10.png\n",
      "images/236.png\n",
      "images/197.png\n",
      "images/159.png\n",
      "images/38.png\n",
      "images/314.png\n",
      "images/231.png\n",
      "images/392.png\n",
      "images/483.png\n",
      "images/390.png\n",
      "images/93.png\n"
     ]
    },
    {
     "data": {
      "text/html": [
       "<pre style=\"white-space:pre;overflow-x:auto;line-height:normal;font-family:Menlo,'DejaVu Sans Mono',consolas,'Courier New',monospace\">images/355.png\n",
       "</pre>\n"
      ],
      "text/plain": [
       "images/355.png\n"
      ]
     },
     "metadata": {},
     "output_type": "display_data"
    },
    {
     "data": {
      "text/html": [
       "<pre style=\"white-space:pre;overflow-x:auto;line-height:normal;font-family:Menlo,'DejaVu Sans Mono',consolas,'Courier New',monospace\">images/248.png\n",
       "</pre>\n"
      ],
      "text/plain": [
       "images/248.png\n"
      ]
     },
     "metadata": {},
     "output_type": "display_data"
    },
    {
     "data": {
      "text/html": [
       "<pre style=\"white-space:pre;overflow-x:auto;line-height:normal;font-family:Menlo,'DejaVu Sans Mono',consolas,'Courier New',monospace\">images/212.png\n",
       "</pre>\n"
      ],
      "text/plain": [
       "images/212.png\n"
      ]
     },
     "metadata": {},
     "output_type": "display_data"
    },
    {
     "data": {
      "text/html": [
       "<pre style=\"white-space:pre;overflow-x:auto;line-height:normal;font-family:Menlo,'DejaVu Sans Mono',consolas,'Courier New',monospace\">images/432.png\n",
       "</pre>\n"
      ],
      "text/plain": [
       "images/432.png\n"
      ]
     },
     "metadata": {},
     "output_type": "display_data"
    },
    {
     "data": {
      "text/html": [
       "<pre style=\"white-space:pre;overflow-x:auto;line-height:normal;font-family:Menlo,'DejaVu Sans Mono',consolas,'Courier New',monospace\">images/193.png\n",
       "</pre>\n"
      ],
      "text/plain": [
       "images/193.png\n"
      ]
     },
     "metadata": {},
     "output_type": "display_data"
    },
    {
     "data": {
      "text/html": [
       "<pre style=\"white-space:pre;overflow-x:auto;line-height:normal;font-family:Menlo,'DejaVu Sans Mono',consolas,'Courier New',monospace\">images/82.png\n",
       "</pre>\n"
      ],
      "text/plain": [
       "images/82.png\n"
      ]
     },
     "metadata": {},
     "output_type": "display_data"
    },
    {
     "data": {
      "text/html": [
       "<pre style=\"white-space:pre;overflow-x:auto;line-height:normal;font-family:Menlo,'DejaVu Sans Mono',consolas,'Courier New',monospace\">images/302.png\n",
       "</pre>\n"
      ],
      "text/plain": [
       "images/302.png\n"
      ]
     },
     "metadata": {},
     "output_type": "display_data"
    },
    {
     "data": {
      "text/html": [
       "<pre style=\"white-space:pre;overflow-x:auto;line-height:normal;font-family:Menlo,'DejaVu Sans Mono',consolas,'Courier New',monospace\">images/166.png\n",
       "</pre>\n"
      ],
      "text/plain": [
       "images/166.png\n"
      ]
     },
     "metadata": {},
     "output_type": "display_data"
    },
    {
     "data": {
      "text/html": [
       "<pre style=\"white-space:pre;overflow-x:auto;line-height:normal;font-family:Menlo,'DejaVu Sans Mono',consolas,'Courier New',monospace\">images/237.png\n",
       "</pre>\n"
      ],
      "text/plain": [
       "images/237.png\n"
      ]
     },
     "metadata": {},
     "output_type": "display_data"
    },
    {
     "data": {
      "text/html": [
       "<pre style=\"white-space:pre;overflow-x:auto;line-height:normal;font-family:Menlo,'DejaVu Sans Mono',consolas,'Courier New',monospace\">images/169.png\n",
       "</pre>\n"
      ],
      "text/plain": [
       "images/169.png\n"
      ]
     },
     "metadata": {},
     "output_type": "display_data"
    },
    {
     "data": {
      "text/html": [
       "<pre style=\"white-space:pre;overflow-x:auto;line-height:normal;font-family:Menlo,'DejaVu Sans Mono',consolas,'Courier New',monospace\"></pre>\n"
      ],
      "text/plain": []
     },
     "metadata": {},
     "output_type": "display_data"
    },
    {
     "data": {
      "text/html": [
       "<pre style=\"white-space:pre;overflow-x:auto;line-height:normal;font-family:Menlo,'DejaVu Sans Mono',consolas,'Courier New',monospace\">\n",
       "</pre>\n"
      ],
      "text/plain": [
       "\n"
      ]
     },
     "metadata": {},
     "output_type": "display_data"
    },
    {
     "ename": "FileNotFoundError",
     "evalue": "[Errno 2] No such file or directory: 'images/452.png'",
     "output_type": "error",
     "traceback": [
      "\u001b[0;31m---------------------------------------------------------------------------\u001b[0m",
      "\u001b[0;31mFileNotFoundError\u001b[0m                         Traceback (most recent call last)",
      "Cell \u001b[0;32mIn[6], line 1\u001b[0m\n\u001b[0;32m----> 1\u001b[0m \u001b[43meval_image\u001b[49m\u001b[43m(\u001b[49m\u001b[43mpipeline\u001b[49m\u001b[43m,\u001b[49m\u001b[43mtransform\u001b[49m\u001b[43m)\u001b[49m\n",
      "File \u001b[0;32m/workspace/inerf/inerf/inerf_utils.py:110\u001b[0m, in \u001b[0;36meval_image\u001b[0;34m(pipeline, transforms)\u001b[0m\n\u001b[1;32m    108\u001b[0m pipeline\u001b[38;5;241m.\u001b[39mdatamanager\u001b[38;5;241m.\u001b[39mtrain_dataset \u001b[38;5;241m=\u001b[39m pipeline\u001b[38;5;241m.\u001b[39mdatamanager\u001b[38;5;241m.\u001b[39mcreate_train_dataset()\n\u001b[1;32m    109\u001b[0m pipeline\u001b[38;5;241m.\u001b[39meval()\n\u001b[0;32m--> 110\u001b[0m \u001b[43mpipeline\u001b[49m\u001b[38;5;241;43m.\u001b[39;49m\u001b[43mdatamanager\u001b[49m\u001b[38;5;241;43m.\u001b[39;49m\u001b[43msetup_train\u001b[49m\u001b[43m(\u001b[49m\u001b[43m)\u001b[49m\n",
      "File \u001b[0;32m/workspace/plane-nerf/plane_nerf/plane_nerf_datamanager.py:85\u001b[0m, in \u001b[0;36mPlaneNerfDataManager.setup_train\u001b[0;34m(self)\u001b[0m\n\u001b[1;32m     83\u001b[0m \u001b[38;5;28;01massert\u001b[39;00m \u001b[38;5;28mself\u001b[39m\u001b[38;5;241m.\u001b[39mtrain_dataset \u001b[38;5;129;01mis\u001b[39;00m \u001b[38;5;129;01mnot\u001b[39;00m \u001b[38;5;28;01mNone\u001b[39;00m\n\u001b[1;32m     84\u001b[0m CONSOLE\u001b[38;5;241m.\u001b[39mprint(\u001b[38;5;124m\"\u001b[39m\u001b[38;5;124mSetting up training dataset...\u001b[39m\u001b[38;5;124m\"\u001b[39m)\n\u001b[0;32m---> 85\u001b[0m \u001b[38;5;28mself\u001b[39m\u001b[38;5;241m.\u001b[39mtrain_image_dataloader \u001b[38;5;241m=\u001b[39m \u001b[43mCacheDataloader\u001b[49m\u001b[43m(\u001b[49m\n\u001b[1;32m     86\u001b[0m \u001b[43m    \u001b[49m\u001b[38;5;28;43mself\u001b[39;49m\u001b[38;5;241;43m.\u001b[39;49m\u001b[43mtrain_dataset\u001b[49m\u001b[43m,\u001b[49m\n\u001b[1;32m     87\u001b[0m \u001b[43m    \u001b[49m\u001b[43mnum_images_to_sample_from\u001b[49m\u001b[38;5;241;43m=\u001b[39;49m\u001b[38;5;28;43mself\u001b[39;49m\u001b[38;5;241;43m.\u001b[39;49m\u001b[43mconfig\u001b[49m\u001b[38;5;241;43m.\u001b[39;49m\u001b[43mtrain_num_images_to_sample_from\u001b[49m\u001b[43m,\u001b[49m\n\u001b[1;32m     88\u001b[0m \u001b[43m    \u001b[49m\u001b[43mnum_times_to_repeat_images\u001b[49m\u001b[38;5;241;43m=\u001b[39;49m\u001b[38;5;28;43mself\u001b[39;49m\u001b[38;5;241;43m.\u001b[39;49m\u001b[43mconfig\u001b[49m\u001b[38;5;241;43m.\u001b[39;49m\u001b[43mtrain_num_times_to_repeat_images\u001b[49m\u001b[43m,\u001b[49m\n\u001b[1;32m     89\u001b[0m \u001b[43m    \u001b[49m\u001b[43mdevice\u001b[49m\u001b[38;5;241;43m=\u001b[39;49m\u001b[38;5;28;43mself\u001b[39;49m\u001b[38;5;241;43m.\u001b[39;49m\u001b[43mdevice\u001b[49m\u001b[43m,\u001b[49m\n\u001b[1;32m     90\u001b[0m \u001b[43m    \u001b[49m\u001b[43mnum_workers\u001b[49m\u001b[38;5;241;43m=\u001b[39;49m\u001b[38;5;28;43mself\u001b[39;49m\u001b[38;5;241;43m.\u001b[39;49m\u001b[43mworld_size\u001b[49m\u001b[43m \u001b[49m\u001b[38;5;241;43m*\u001b[39;49m\u001b[43m \u001b[49m\u001b[38;5;241;43m4\u001b[39;49m\u001b[43m,\u001b[49m\n\u001b[1;32m     91\u001b[0m \u001b[43m    \u001b[49m\u001b[43mpin_memory\u001b[49m\u001b[38;5;241;43m=\u001b[39;49m\u001b[38;5;28;43;01mTrue\u001b[39;49;00m\u001b[43m,\u001b[49m\n\u001b[1;32m     92\u001b[0m \u001b[43m    \u001b[49m\u001b[43mcollate_fn\u001b[49m\u001b[38;5;241;43m=\u001b[39;49m\u001b[38;5;28;43mself\u001b[39;49m\u001b[38;5;241;43m.\u001b[39;49m\u001b[43mconfig\u001b[49m\u001b[38;5;241;43m.\u001b[39;49m\u001b[43mcollate_fn\u001b[49m\u001b[43m,\u001b[49m\n\u001b[1;32m     93\u001b[0m \u001b[43m    \u001b[49m\u001b[43mexclude_batch_keys_from_device\u001b[49m\u001b[38;5;241;43m=\u001b[39;49m\u001b[38;5;28;43mself\u001b[39;49m\u001b[38;5;241;43m.\u001b[39;49m\u001b[43mexclude_batch_keys_from_device\u001b[49m\u001b[43m,\u001b[49m\n\u001b[1;32m     94\u001b[0m \u001b[43m\u001b[49m\u001b[43m)\u001b[49m\n\u001b[1;32m     95\u001b[0m \u001b[38;5;28mself\u001b[39m\u001b[38;5;241m.\u001b[39miter_train_image_dataloader \u001b[38;5;241m=\u001b[39m \u001b[38;5;28miter\u001b[39m(\u001b[38;5;28mself\u001b[39m\u001b[38;5;241m.\u001b[39mtrain_image_dataloader)\n\u001b[1;32m     96\u001b[0m \u001b[38;5;28mself\u001b[39m\u001b[38;5;241m.\u001b[39mtrain_pixel_sampler \u001b[38;5;241m=\u001b[39m \u001b[38;5;28mself\u001b[39m\u001b[38;5;241m.\u001b[39m_get_pixel_sampler(\u001b[38;5;28mself\u001b[39m\u001b[38;5;241m.\u001b[39mtrain_dataset, \u001b[38;5;28mself\u001b[39m\u001b[38;5;241m.\u001b[39mconfig\u001b[38;5;241m.\u001b[39mtrain_num_rays_per_batch)\n",
      "File \u001b[0;32m~/nerfstudio/nerfstudio/data/utils/dataloaders.py:85\u001b[0m, in \u001b[0;36mCacheDataloader.__init__\u001b[0;34m(self, dataset, num_images_to_sample_from, num_times_to_repeat_images, device, collate_fn, exclude_batch_keys_from_device, **kwargs)\u001b[0m\n\u001b[1;32m     81\u001b[0m     \u001b[38;5;28;01mif\u001b[39;00m \u001b[38;5;28mlen\u001b[39m(\u001b[38;5;28mself\u001b[39m\u001b[38;5;241m.\u001b[39mdataset) \u001b[38;5;241m>\u001b[39m \u001b[38;5;241m500\u001b[39m:\n\u001b[1;32m     82\u001b[0m         CONSOLE\u001b[38;5;241m.\u001b[39mprint(\n\u001b[1;32m     83\u001b[0m             \u001b[38;5;124m\"\u001b[39m\u001b[38;5;124m[bold yellow]Warning: If you run out of memory, try reducing the number of images to sample from.\u001b[39m\u001b[38;5;124m\"\u001b[39m\n\u001b[1;32m     84\u001b[0m         )\n\u001b[0;32m---> 85\u001b[0m     \u001b[38;5;28mself\u001b[39m\u001b[38;5;241m.\u001b[39mcached_collated_batch \u001b[38;5;241m=\u001b[39m \u001b[38;5;28;43mself\u001b[39;49m\u001b[38;5;241;43m.\u001b[39;49m\u001b[43m_get_collated_batch\u001b[49m\u001b[43m(\u001b[49m\u001b[43m)\u001b[49m\n\u001b[1;32m     86\u001b[0m \u001b[38;5;28;01melif\u001b[39;00m \u001b[38;5;28mself\u001b[39m\u001b[38;5;241m.\u001b[39mnum_times_to_repeat_images \u001b[38;5;241m==\u001b[39m \u001b[38;5;241m-\u001b[39m\u001b[38;5;241m1\u001b[39m:\n\u001b[1;32m     87\u001b[0m     CONSOLE\u001b[38;5;241m.\u001b[39mprint(\n\u001b[1;32m     88\u001b[0m         \u001b[38;5;124mf\u001b[39m\u001b[38;5;124m\"\u001b[39m\u001b[38;5;124mCaching \u001b[39m\u001b[38;5;132;01m{\u001b[39;00m\u001b[38;5;28mself\u001b[39m\u001b[38;5;241m.\u001b[39mnum_images_to_sample_from\u001b[38;5;132;01m}\u001b[39;00m\u001b[38;5;124m out of \u001b[39m\u001b[38;5;132;01m{\u001b[39;00m\u001b[38;5;28mlen\u001b[39m(\u001b[38;5;28mself\u001b[39m\u001b[38;5;241m.\u001b[39mdataset)\u001b[38;5;132;01m}\u001b[39;00m\u001b[38;5;124m images, without resampling.\u001b[39m\u001b[38;5;124m\"\u001b[39m\n\u001b[1;32m     89\u001b[0m     )\n",
      "File \u001b[0;32m~/nerfstudio/nerfstudio/data/utils/dataloaders.py:123\u001b[0m, in \u001b[0;36mCacheDataloader._get_collated_batch\u001b[0;34m(self)\u001b[0m\n\u001b[1;32m    121\u001b[0m \u001b[38;5;28;01mdef\u001b[39;00m \u001b[38;5;21m_get_collated_batch\u001b[39m(\u001b[38;5;28mself\u001b[39m):\n\u001b[1;32m    122\u001b[0m \u001b[38;5;250m    \u001b[39m\u001b[38;5;124;03m\"\"\"Returns a collated batch.\"\"\"\u001b[39;00m\n\u001b[0;32m--> 123\u001b[0m     batch_list \u001b[38;5;241m=\u001b[39m \u001b[38;5;28;43mself\u001b[39;49m\u001b[38;5;241;43m.\u001b[39;49m\u001b[43m_get_batch_list\u001b[49m\u001b[43m(\u001b[49m\u001b[43m)\u001b[49m\n\u001b[1;32m    124\u001b[0m     collated_batch \u001b[38;5;241m=\u001b[39m \u001b[38;5;28mself\u001b[39m\u001b[38;5;241m.\u001b[39mcollate_fn(batch_list)\n\u001b[1;32m    125\u001b[0m     collated_batch \u001b[38;5;241m=\u001b[39m get_dict_to_torch(\n\u001b[1;32m    126\u001b[0m         collated_batch, device\u001b[38;5;241m=\u001b[39m\u001b[38;5;28mself\u001b[39m\u001b[38;5;241m.\u001b[39mdevice, exclude\u001b[38;5;241m=\u001b[39m\u001b[38;5;28mself\u001b[39m\u001b[38;5;241m.\u001b[39mexclude_batch_keys_from_device\n\u001b[1;32m    127\u001b[0m     )\n",
      "File \u001b[0;32m~/nerfstudio/nerfstudio/data/utils/dataloaders.py:117\u001b[0m, in \u001b[0;36mCacheDataloader._get_batch_list\u001b[0;34m(self)\u001b[0m\n\u001b[1;32m    114\u001b[0m         results\u001b[38;5;241m.\u001b[39mappend(res)\n\u001b[1;32m    116\u001b[0m     \u001b[38;5;28;01mfor\u001b[39;00m res \u001b[38;5;129;01min\u001b[39;00m track(results, description\u001b[38;5;241m=\u001b[39m\u001b[38;5;124m\"\u001b[39m\u001b[38;5;124mLoading data batch\u001b[39m\u001b[38;5;124m\"\u001b[39m, transient\u001b[38;5;241m=\u001b[39m\u001b[38;5;28;01mTrue\u001b[39;00m):\n\u001b[0;32m--> 117\u001b[0m         batch_list\u001b[38;5;241m.\u001b[39mappend(\u001b[43mres\u001b[49m\u001b[38;5;241;43m.\u001b[39;49m\u001b[43mresult\u001b[49m\u001b[43m(\u001b[49m\u001b[43m)\u001b[49m)\n\u001b[1;32m    119\u001b[0m \u001b[38;5;28;01mreturn\u001b[39;00m batch_list\n",
      "File \u001b[0;32m/usr/lib/python3.10/concurrent/futures/_base.py:451\u001b[0m, in \u001b[0;36mFuture.result\u001b[0;34m(self, timeout)\u001b[0m\n\u001b[1;32m    449\u001b[0m     \u001b[38;5;28;01mraise\u001b[39;00m CancelledError()\n\u001b[1;32m    450\u001b[0m \u001b[38;5;28;01melif\u001b[39;00m \u001b[38;5;28mself\u001b[39m\u001b[38;5;241m.\u001b[39m_state \u001b[38;5;241m==\u001b[39m FINISHED:\n\u001b[0;32m--> 451\u001b[0m     \u001b[38;5;28;01mreturn\u001b[39;00m \u001b[38;5;28;43mself\u001b[39;49m\u001b[38;5;241;43m.\u001b[39;49m\u001b[43m__get_result\u001b[49m\u001b[43m(\u001b[49m\u001b[43m)\u001b[49m\n\u001b[1;32m    453\u001b[0m \u001b[38;5;28mself\u001b[39m\u001b[38;5;241m.\u001b[39m_condition\u001b[38;5;241m.\u001b[39mwait(timeout)\n\u001b[1;32m    455\u001b[0m \u001b[38;5;28;01mif\u001b[39;00m \u001b[38;5;28mself\u001b[39m\u001b[38;5;241m.\u001b[39m_state \u001b[38;5;129;01min\u001b[39;00m [CANCELLED, CANCELLED_AND_NOTIFIED]:\n",
      "File \u001b[0;32m/usr/lib/python3.10/concurrent/futures/_base.py:403\u001b[0m, in \u001b[0;36mFuture.__get_result\u001b[0;34m(self)\u001b[0m\n\u001b[1;32m    401\u001b[0m \u001b[38;5;28;01mif\u001b[39;00m \u001b[38;5;28mself\u001b[39m\u001b[38;5;241m.\u001b[39m_exception:\n\u001b[1;32m    402\u001b[0m     \u001b[38;5;28;01mtry\u001b[39;00m:\n\u001b[0;32m--> 403\u001b[0m         \u001b[38;5;28;01mraise\u001b[39;00m \u001b[38;5;28mself\u001b[39m\u001b[38;5;241m.\u001b[39m_exception\n\u001b[1;32m    404\u001b[0m     \u001b[38;5;28;01mfinally\u001b[39;00m:\n\u001b[1;32m    405\u001b[0m         \u001b[38;5;66;03m# Break a reference cycle with the exception in self._exception\u001b[39;00m\n\u001b[1;32m    406\u001b[0m         \u001b[38;5;28mself\u001b[39m \u001b[38;5;241m=\u001b[39m \u001b[38;5;28;01mNone\u001b[39;00m\n",
      "File \u001b[0;32m/usr/lib/python3.10/concurrent/futures/thread.py:58\u001b[0m, in \u001b[0;36m_WorkItem.run\u001b[0;34m(self)\u001b[0m\n\u001b[1;32m     55\u001b[0m     \u001b[38;5;28;01mreturn\u001b[39;00m\n\u001b[1;32m     57\u001b[0m \u001b[38;5;28;01mtry\u001b[39;00m:\n\u001b[0;32m---> 58\u001b[0m     result \u001b[38;5;241m=\u001b[39m \u001b[38;5;28;43mself\u001b[39;49m\u001b[38;5;241;43m.\u001b[39;49m\u001b[43mfn\u001b[49m\u001b[43m(\u001b[49m\u001b[38;5;241;43m*\u001b[39;49m\u001b[38;5;28;43mself\u001b[39;49m\u001b[38;5;241;43m.\u001b[39;49m\u001b[43margs\u001b[49m\u001b[43m,\u001b[49m\u001b[43m \u001b[49m\u001b[38;5;241;43m*\u001b[39;49m\u001b[38;5;241;43m*\u001b[39;49m\u001b[38;5;28;43mself\u001b[39;49m\u001b[38;5;241;43m.\u001b[39;49m\u001b[43mkwargs\u001b[49m\u001b[43m)\u001b[49m\n\u001b[1;32m     59\u001b[0m \u001b[38;5;28;01mexcept\u001b[39;00m \u001b[38;5;167;01mBaseException\u001b[39;00m \u001b[38;5;28;01mas\u001b[39;00m exc:\n\u001b[1;32m     60\u001b[0m     \u001b[38;5;28mself\u001b[39m\u001b[38;5;241m.\u001b[39mfuture\u001b[38;5;241m.\u001b[39mset_exception(exc)\n",
      "File \u001b[0;32m~/nerfstudio/nerfstudio/data/datasets/base_dataset.py:120\u001b[0m, in \u001b[0;36mInputDataset.__getitem__\u001b[0;34m(self, image_idx)\u001b[0m\n\u001b[1;32m    119\u001b[0m \u001b[38;5;28;01mdef\u001b[39;00m \u001b[38;5;21m__getitem__\u001b[39m(\u001b[38;5;28mself\u001b[39m, image_idx: \u001b[38;5;28mint\u001b[39m) \u001b[38;5;241m-\u001b[39m\u001b[38;5;241m>\u001b[39m Dict:\n\u001b[0;32m--> 120\u001b[0m     data \u001b[38;5;241m=\u001b[39m \u001b[38;5;28;43mself\u001b[39;49m\u001b[38;5;241;43m.\u001b[39;49m\u001b[43mget_data\u001b[49m\u001b[43m(\u001b[49m\u001b[43mimage_idx\u001b[49m\u001b[43m)\u001b[49m\n\u001b[1;32m    121\u001b[0m     \u001b[38;5;28;01mreturn\u001b[39;00m data\n",
      "File \u001b[0;32m~/nerfstudio/nerfstudio/data/datasets/base_dataset.py:98\u001b[0m, in \u001b[0;36mInputDataset.get_data\u001b[0;34m(self, image_idx)\u001b[0m\n\u001b[1;32m     92\u001b[0m \u001b[38;5;28;01mdef\u001b[39;00m \u001b[38;5;21mget_data\u001b[39m(\u001b[38;5;28mself\u001b[39m, image_idx: \u001b[38;5;28mint\u001b[39m) \u001b[38;5;241m-\u001b[39m\u001b[38;5;241m>\u001b[39m Dict:\n\u001b[1;32m     93\u001b[0m \u001b[38;5;250m    \u001b[39m\u001b[38;5;124;03m\"\"\"Returns the ImageDataset data as a dictionary.\u001b[39;00m\n\u001b[1;32m     94\u001b[0m \n\u001b[1;32m     95\u001b[0m \u001b[38;5;124;03m    Args:\u001b[39;00m\n\u001b[1;32m     96\u001b[0m \u001b[38;5;124;03m        image_idx: The image index in the dataset.\u001b[39;00m\n\u001b[1;32m     97\u001b[0m \u001b[38;5;124;03m    \"\"\"\u001b[39;00m\n\u001b[0;32m---> 98\u001b[0m     image \u001b[38;5;241m=\u001b[39m \u001b[38;5;28;43mself\u001b[39;49m\u001b[38;5;241;43m.\u001b[39;49m\u001b[43mget_image\u001b[49m\u001b[43m(\u001b[49m\u001b[43mimage_idx\u001b[49m\u001b[43m)\u001b[49m\n\u001b[1;32m     99\u001b[0m     data \u001b[38;5;241m=\u001b[39m {\u001b[38;5;124m\"\u001b[39m\u001b[38;5;124mimage_idx\u001b[39m\u001b[38;5;124m\"\u001b[39m: image_idx, \u001b[38;5;124m\"\u001b[39m\u001b[38;5;124mimage\u001b[39m\u001b[38;5;124m\"\u001b[39m: image}\n\u001b[1;32m    100\u001b[0m     \u001b[38;5;28;01mif\u001b[39;00m \u001b[38;5;28mself\u001b[39m\u001b[38;5;241m.\u001b[39m_dataparser_outputs\u001b[38;5;241m.\u001b[39mmask_filenames \u001b[38;5;129;01mis\u001b[39;00m \u001b[38;5;129;01mnot\u001b[39;00m \u001b[38;5;28;01mNone\u001b[39;00m:\n",
      "File \u001b[0;32m~/nerfstudio/nerfstudio/data/datasets/base_dataset.py:87\u001b[0m, in \u001b[0;36mInputDataset.get_image\u001b[0;34m(self, image_idx)\u001b[0m\n\u001b[1;32m     81\u001b[0m \u001b[38;5;28;01mdef\u001b[39;00m \u001b[38;5;21mget_image\u001b[39m(\u001b[38;5;28mself\u001b[39m, image_idx: \u001b[38;5;28mint\u001b[39m) \u001b[38;5;241m-\u001b[39m\u001b[38;5;241m>\u001b[39m Float[Tensor, \u001b[38;5;124m\"\u001b[39m\u001b[38;5;124mimage_height image_width num_channels\u001b[39m\u001b[38;5;124m\"\u001b[39m]:\n\u001b[1;32m     82\u001b[0m \u001b[38;5;250m    \u001b[39m\u001b[38;5;124;03m\"\"\"Returns a 3 channel image.\u001b[39;00m\n\u001b[1;32m     83\u001b[0m \n\u001b[1;32m     84\u001b[0m \u001b[38;5;124;03m    Args:\u001b[39;00m\n\u001b[1;32m     85\u001b[0m \u001b[38;5;124;03m        image_idx: The image index in the dataset.\u001b[39;00m\n\u001b[1;32m     86\u001b[0m \u001b[38;5;124;03m    \"\"\"\u001b[39;00m\n\u001b[0;32m---> 87\u001b[0m     image \u001b[38;5;241m=\u001b[39m torch\u001b[38;5;241m.\u001b[39mfrom_numpy(\u001b[38;5;28;43mself\u001b[39;49m\u001b[38;5;241;43m.\u001b[39;49m\u001b[43mget_numpy_image\u001b[49m\u001b[43m(\u001b[49m\u001b[43mimage_idx\u001b[49m\u001b[43m)\u001b[49m\u001b[38;5;241m.\u001b[39mastype(\u001b[38;5;124m\"\u001b[39m\u001b[38;5;124mfloat32\u001b[39m\u001b[38;5;124m\"\u001b[39m) \u001b[38;5;241m/\u001b[39m \u001b[38;5;241m255.0\u001b[39m)\n\u001b[1;32m     88\u001b[0m     \u001b[38;5;28;01mif\u001b[39;00m \u001b[38;5;28mself\u001b[39m\u001b[38;5;241m.\u001b[39m_dataparser_outputs\u001b[38;5;241m.\u001b[39malpha_color \u001b[38;5;129;01mis\u001b[39;00m \u001b[38;5;129;01mnot\u001b[39;00m \u001b[38;5;28;01mNone\u001b[39;00m \u001b[38;5;129;01mand\u001b[39;00m image\u001b[38;5;241m.\u001b[39mshape[\u001b[38;5;241m-\u001b[39m\u001b[38;5;241m1\u001b[39m] \u001b[38;5;241m==\u001b[39m \u001b[38;5;241m4\u001b[39m:\n\u001b[1;32m     89\u001b[0m         image \u001b[38;5;241m=\u001b[39m image[:, :, :\u001b[38;5;241m3\u001b[39m] \u001b[38;5;241m*\u001b[39m image[:, :, \u001b[38;5;241m-\u001b[39m\u001b[38;5;241m1\u001b[39m:] \u001b[38;5;241m+\u001b[39m \u001b[38;5;28mself\u001b[39m\u001b[38;5;241m.\u001b[39m_dataparser_outputs\u001b[38;5;241m.\u001b[39malpha_color \u001b[38;5;241m*\u001b[39m (\u001b[38;5;241m1.0\u001b[39m \u001b[38;5;241m-\u001b[39m image[:, :, \u001b[38;5;241m-\u001b[39m\u001b[38;5;241m1\u001b[39m:])\n",
      "File \u001b[0;32m~/nerfstudio/nerfstudio/data/datasets/base_dataset.py:68\u001b[0m, in \u001b[0;36mInputDataset.get_numpy_image\u001b[0;34m(self, image_idx)\u001b[0m\n\u001b[1;32m     66\u001b[0m image_filename \u001b[38;5;241m=\u001b[39m \u001b[38;5;28mself\u001b[39m\u001b[38;5;241m.\u001b[39m_dataparser_outputs\u001b[38;5;241m.\u001b[39mimage_filenames[image_idx]\n\u001b[1;32m     67\u001b[0m \u001b[38;5;28mprint\u001b[39m(image_filename)\n\u001b[0;32m---> 68\u001b[0m pil_image \u001b[38;5;241m=\u001b[39m \u001b[43mImage\u001b[49m\u001b[38;5;241;43m.\u001b[39;49m\u001b[43mopen\u001b[49m\u001b[43m(\u001b[49m\u001b[43mimage_filename\u001b[49m\u001b[43m)\u001b[49m\n\u001b[1;32m     69\u001b[0m \u001b[38;5;28;01mif\u001b[39;00m \u001b[38;5;28mself\u001b[39m\u001b[38;5;241m.\u001b[39mscale_factor \u001b[38;5;241m!=\u001b[39m \u001b[38;5;241m1.0\u001b[39m:\n\u001b[1;32m     70\u001b[0m     width, height \u001b[38;5;241m=\u001b[39m pil_image\u001b[38;5;241m.\u001b[39msize\n",
      "File \u001b[0;32m~/.local/lib/python3.10/site-packages/PIL/Image.py:3218\u001b[0m, in \u001b[0;36mopen\u001b[0;34m(fp, mode, formats)\u001b[0m\n\u001b[1;32m   3215\u001b[0m     filename \u001b[38;5;241m=\u001b[39m fp\n\u001b[1;32m   3217\u001b[0m \u001b[38;5;28;01mif\u001b[39;00m filename:\n\u001b[0;32m-> 3218\u001b[0m     fp \u001b[38;5;241m=\u001b[39m \u001b[43mbuiltins\u001b[49m\u001b[38;5;241;43m.\u001b[39;49m\u001b[43mopen\u001b[49m\u001b[43m(\u001b[49m\u001b[43mfilename\u001b[49m\u001b[43m,\u001b[49m\u001b[43m \u001b[49m\u001b[38;5;124;43m\"\u001b[39;49m\u001b[38;5;124;43mrb\u001b[39;49m\u001b[38;5;124;43m\"\u001b[39;49m\u001b[43m)\u001b[49m\n\u001b[1;32m   3219\u001b[0m     exclusive_fp \u001b[38;5;241m=\u001b[39m \u001b[38;5;28;01mTrue\u001b[39;00m\n\u001b[1;32m   3221\u001b[0m \u001b[38;5;28;01mtry\u001b[39;00m:\n",
      "\u001b[0;31mFileNotFoundError\u001b[0m: [Errno 2] No such file or directory: 'images/452.png'"
     ]
    }
   ],
   "source": [
    "eval_image(pipeline,transform)"
   ]
  }
 ],
 "metadata": {
  "kernelspec": {
   "display_name": "Python 3",
   "language": "python",
   "name": "python3"
  },
  "language_info": {
   "codemirror_mode": {
    "name": "ipython",
    "version": 3
   },
   "file_extension": ".py",
   "mimetype": "text/x-python",
   "name": "python",
   "nbconvert_exporter": "python",
   "pygments_lexer": "ipython3",
   "version": "3.10.12"
  }
 },
 "nbformat": 4,
 "nbformat_minor": 2
}
